{
  "nbformat": 4,
  "nbformat_minor": 0,
  "metadata": {
    "colab": {
      "name": "kube-now.ipynb",
      "version": "0.3.2",
      "views": {},
      "default_view": {},
      "provenance": []
    },
    "kernelspec": {
      "name": "python3",
      "display_name": "Python 3"
    }
  },
  "cells": [
    {
      "metadata": {
        "id": "OuWZ1-7ARUdB",
        "colab_type": "text"
      },
      "cell_type": "markdown",
      "source": [
        "# KubeNow Notebook\n",
        "by: Coleman Word"
      ]
    },
    {
      "metadata": {
        "id": "OiXM859jRa1G",
        "colab_type": "toc"
      },
      "cell_type": "markdown",
      "source": [
        ">[KubeNow Notebook](#updateTitle=true&folderId=1RmTu1U3Lw-zFE3Q8gU5mWTFP3Q95z77t&scrollTo=OuWZ1-7ARUdB)\n",
        "\n",
        ">[Install](#updateTitle=true&folderId=1RmTu1U3Lw-zFE3Q8gU5mWTFP3Q95z77t&scrollTo=ldDt2uO7RRof)\n",
        "\n"
      ]
    },
    {
      "metadata": {
        "id": "IVupd5uyRska",
        "colab_type": "code",
        "colab": {
          "autoexec": {
            "startup": false,
            "wait_interval": 0
          },
          "base_uri": "https://localhost:8080/",
          "height": 125
        },
        "outputId": "ae13a1b8-3785-4990-f1f6-ce2f60bb2472",
        "executionInfo": {
          "status": "ok",
          "timestamp": 1529281461041,
          "user_tz": 360,
          "elapsed": 3141,
          "user": {
            "displayName": "Coleman Word",
            "photoUrl": "//lh5.googleusercontent.com/-qdXUkBBFKDE/AAAAAAAAAAI/AAAAAAAACTg/d_8GJ5X8GiU/s50-c-k-no/photo.jpg",
            "userId": "109145136271303497717"
          }
        }
      },
      "cell_type": "code",
      "source": [
        "!git clone https://github.com/Thekubebro/KubeNow-Notebook.git && cd KubeNow-Notebook"
      ],
      "execution_count": 4,
      "outputs": [
        {
          "output_type": "stream",
          "text": [
            "Cloning into 'KubeNow-Notebook'...\n",
            "remote: Counting objects: 8529, done.\u001b[K\n",
            "remote: Compressing objects: 100% (88/88), done.\u001b[K\n",
            "remote: Total 8529 (delta 84), reused 78 (delta 43), pack-reused 8393\u001b[K\n",
            "Receiving objects: 100% (8529/8529), 2.55 MiB | 24.43 MiB/s, done.\n",
            "Resolving deltas: 100% (5036/5036), done.\n"
          ],
          "name": "stdout"
        }
      ]
    },
    {
      "metadata": {
        "id": "ldDt2uO7RRof",
        "colab_type": "text"
      },
      "cell_type": "markdown",
      "source": [
        "# Install "
      ]
    },
    {
      "metadata": {
        "id": "OxdhXEkAQ1vJ",
        "colab_type": "code",
        "colab": {
          "autoexec": {
            "startup": false,
            "wait_interval": 0
          },
          "base_uri": "https://localhost:8080/",
          "height": 89
        },
        "outputId": "dd56f348-f7d5-45d3-e95f-434781d48e62",
        "executionInfo": {
          "status": "ok",
          "timestamp": 1529281275571,
          "user_tz": 360,
          "elapsed": 5415,
          "user": {
            "displayName": "Coleman Word",
            "photoUrl": "//lh5.googleusercontent.com/-qdXUkBBFKDE/AAAAAAAAAAI/AAAAAAAACTg/d_8GJ5X8GiU/s50-c-k-no/photo.jpg",
            "userId": "109145136271303497717"
          }
        }
      },
      "cell_type": "code",
      "source": [
        "!curl -Lo kn https://github.com/kubenow/KubeNow/releases/download/0.3.2/kn && chmod +x kn && mv kn /usr/local/bin/\n"
      ],
      "execution_count": 2,
      "outputs": [
        {
          "output_type": "stream",
          "text": [
            "  % Total    % Received % Xferd  Average Speed   Time    Time     Time  Current\r\n",
            "                                 Dload  Upload   Total   Spent    Left  Speed\n",
            "100   592    0   592    0     0    592      0 --:--:-- --:--:-- --:--:--  4519\n",
            "100  5210  100  5210    0     0   5210      0  0:00:01 --:--:--  0:00:01  5210\n"
          ],
          "name": "stdout"
        }
      ]
    },
    {
      "metadata": {
        "id": "9lSDLU-bRG-E",
        "colab_type": "code",
        "colab": {
          "autoexec": {
            "startup": false,
            "wait_interval": 0
          },
          "base_uri": "https://localhost:8080/",
          "height": 629
        },
        "outputId": "6019db4b-37af-4c9f-91c7-7ce981c39e68",
        "executionInfo": {
          "status": "ok",
          "timestamp": 1529281471717,
          "user_tz": 360,
          "elapsed": 1922,
          "user": {
            "displayName": "Coleman Word",
            "photoUrl": "//lh5.googleusercontent.com/-qdXUkBBFKDE/AAAAAAAAAAI/AAAAAAAACTg/d_8GJ5X8GiU/s50-c-k-no/photo.jpg",
            "userId": "109145136271303497717"
          }
        }
      },
      "cell_type": "code",
      "source": [
        "!kn --help"
      ],
      "execution_count": 5,
      "outputs": [
        {
          "output_type": "stream",
          "text": [
            "unrecognized option --help\r\n",
            "\r\n",
            "Usage: kn [options] <command>\r\n",
            "\r\n",
            "Commands:\r\n",
            "basic:\r\n",
            "  help                   print this message\r\n",
            "  version                print version of this software\r\n",
            "  init <CLOUD> <DIR>     creates a new project in the supplied directory\r\n",
            "                         CLOUD=<gce|aws|openstack|azure>\r\n",
            "  apply                  apply configuration\r\n",
            "  destroy                destroy deployment\r\n",
            "  ssh <host>             ssh to <host> defined in ansible inventory file.\r\n",
            "                         Default <host> is master\r\n",
            "kubernetes:\r\n",
            "  kubectl                run kubectl on the master. More help: kn kubectl help\r\n",
            "  helm                   run helm on the master. More help: kn helm help\r\n",
            "cloud tools:\r\n",
            "  terraform              run Terraform. More help: kn terraform --help\r\n",
            "  ansible                run Ansible. More help: kn ansible --help\r\n",
            "  ansible-playbook       run an Ansible playbook.\r\n",
            "                         More help: kn ansible-playbook --help\r\n",
            "cloud providers CLI:\r\n",
            "  gcloud                 run Google Cloud Platform CLI. More help: kn gcloud help\r\n",
            "  openstack              run OpenStack CLI. More help: kn openstack help\r\n",
            "  az                     run Microsoft Azure CLI. More help: kn az help\r\n",
            "developers:\r\n",
            "  bash                   run an interactive bash promt in the provisioners container\r\n",
            "  kubetoken              generate and print a kubeadm token\r\n",
            "\r\n",
            "Options:\r\n",
            "  -i, --docker-image <image>    specifies the provisioners docker image to be used.\r\n",
            "  KN_PROVISIONERS_IMG           Default: kubenow/provisioners:0.3.2\r\n",
            "\r\n"
          ],
          "name": "stdout"
        }
      ]
    },
    {
      "metadata": {
        "id": "VHabCOPoROUf",
        "colab_type": "code",
        "colab": {
          "autoexec": {
            "startup": false,
            "wait_interval": 0
          }
        }
      },
      "cell_type": "code",
      "source": [
        ""
      ],
      "execution_count": 0,
      "outputs": []
    }
  ]
}